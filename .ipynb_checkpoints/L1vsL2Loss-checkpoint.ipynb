{
 "cells": [
  {
   "cell_type": "code",
   "execution_count": 6,
   "metadata": {
    "collapsed": false
   },
   "outputs": [
    {
     "name": "stdout",
     "output_type": "stream",
     "text": [
      "Populating the interactive namespace from numpy and matplotlib\n"
     ]
    },
    {
     "name": "stderr",
     "output_type": "stream",
     "text": [
      "c:\\python27\\lib\\site-packages\\IPython\\core\\magics\\pylab.py:161: UserWarning: pylab import has clobbered these variables: ['plt']\n",
      "`%matplotlib` prevents importing * from pylab and numpy\n",
      "  \"\\n`%matplotlib` prevents importing * from pylab and numpy\"\n"
     ]
    }
   ],
   "source": [
    "import numpy as np\n",
    "import pandas as pd\n",
    "from sklearn.cross_validation import train_test_split\n",
    "from sklearn.ensemble import GradientBoostingRegressor\n",
    "from statsmodels.tools.eval_measures import rmse\n",
    "import matplotlib.pylab as plt\n",
    "\n",
    "# Make pylab inline and set the theme to 'ggplot'\n",
    "plt.style.use('ggplot')\n",
    "%pylab inline"
   ]
  },
  {
   "cell_type": "code",
   "execution_count": 8,
   "metadata": {
    "collapsed": true
   },
   "outputs": [],
   "source": [
    "#读取波士顿房价数据\n",
    "data = pd.read_csv('./Housing.csv')\n",
    "\n",
    "#训练数据输入\n",
    "train = data.drop('medv', axis = 1)\n",
    "\n",
    "#训练数据目标向量\n",
    "target = data['medv']\n",
    "\n",
    "#将数据分割为训练集、测试集\n",
    "train_x, test_x, train_y, test_y = train_test_split(train, target, test_size= 0.20, random_state = 42)"
   ]
  },
  {
   "cell_type": "code",
   "execution_count": 12,
   "metadata": {
    "collapsed": false
   },
   "outputs": [
    {
     "name": "stdout",
     "output_type": "stream",
     "text": [
      "RMSE - > 3.372770 \n"
     ]
    }
   ],
   "source": [
    "# 使用L1 Loss拟合GradientBoostingRegressor\n",
    "# 此时， 数据集不包含离群点\n",
    "\n",
    "#设置随机数种子为了产生不同的结果\n",
    "np.random.seed(32767)\n",
    "model = GradientBoostingRegressor(loss = 'lad')\n",
    "fit = model.fit(train_x, train_y)\n",
    "predict = fit.predict(test_x)\n",
    "\n",
    "# Root Mean Squared Error\n",
    "print 'RMSE - > %f '% rmse(predict, test_y)"
   ]
  },
  {
   "cell_type": "code",
   "execution_count": 13,
   "metadata": {
    "collapsed": false
   },
   "outputs": [
    {
     "name": "stdout",
     "output_type": "stream",
     "text": [
      "RMSE - > 2.502158 \n"
     ]
    }
   ],
   "source": [
    "# 使用L1 Loss拟合GradientBoostingRegressor\n",
    "# 此时， 数据集不包含离群点\n",
    "model = GradientBoostingRegressor(loss = 'ls')\n",
    "\n",
    "fit = model.fit(train_x, train_y)\n",
    "predict = fit.predict(test_x)\n",
    "\n",
    "# Root Mean Squared Error\n",
    "print 'RMSE - > %f '% rmse(predict, test_y)\n"
   ]
  },
  {
   "cell_type": "code",
   "execution_count": 17,
   "metadata": {
    "collapsed": false
   },
   "outputs": [
    {
     "data": {
      "text/plain": [
       "50.0"
      ]
     },
     "execution_count": 17,
     "metadata": {},
     "output_type": "execute_result"
    }
   ],
   "source": [
    "target.max()    # 50.0 \n",
    "target.min()    # 5.0"
   ]
  },
  {
   "cell_type": "code",
   "execution_count": 22,
   "metadata": {
    "collapsed": false
   },
   "outputs": [
    {
     "data": {
      "text/html": [
       "<div>\n",
       "<table border=\"1\" class=\"dataframe\">\n",
       "  <thead>\n",
       "    <tr style=\"text-align: right;\">\n",
       "      <th></th>\n",
       "      <th>crim</th>\n",
       "      <th>zn</th>\n",
       "      <th>indus</th>\n",
       "      <th>chas</th>\n",
       "      <th>nox</th>\n",
       "      <th>rm</th>\n",
       "      <th>age</th>\n",
       "      <th>dis</th>\n",
       "      <th>rad</th>\n",
       "      <th>tax</th>\n",
       "      <th>ptratio</th>\n",
       "      <th>black</th>\n",
       "      <th>lstat</th>\n",
       "    </tr>\n",
       "  </thead>\n",
       "  <tbody>\n",
       "    <tr>\n",
       "      <th>min</th>\n",
       "      <td>0.00632</td>\n",
       "      <td>0.0</td>\n",
       "      <td>0.46</td>\n",
       "      <td>0.0</td>\n",
       "      <td>0.385</td>\n",
       "      <td>3.561</td>\n",
       "      <td>2.9</td>\n",
       "      <td>1.1296</td>\n",
       "      <td>1.0</td>\n",
       "      <td>187.0</td>\n",
       "      <td>12.6</td>\n",
       "      <td>0.32</td>\n",
       "      <td>1.73</td>\n",
       "    </tr>\n",
       "    <tr>\n",
       "      <th>max</th>\n",
       "      <td>88.97620</td>\n",
       "      <td>100.0</td>\n",
       "      <td>27.74</td>\n",
       "      <td>1.0</td>\n",
       "      <td>0.871</td>\n",
       "      <td>8.780</td>\n",
       "      <td>100.0</td>\n",
       "      <td>12.1265</td>\n",
       "      <td>24.0</td>\n",
       "      <td>711.0</td>\n",
       "      <td>22.0</td>\n",
       "      <td>396.90</td>\n",
       "      <td>37.97</td>\n",
       "    </tr>\n",
       "  </tbody>\n",
       "</table>\n",
       "</div>"
      ],
      "text/plain": [
       "         crim     zn  indus  chas    nox     rm    age      dis   rad    tax  \\\n",
       "min   0.00632    0.0   0.46   0.0  0.385  3.561    2.9   1.1296   1.0  187.0   \n",
       "max  88.97620  100.0  27.74   1.0  0.871  8.780  100.0  12.1265  24.0  711.0   \n",
       "\n",
       "     ptratio   black  lstat  \n",
       "min     12.6    0.32   1.73  \n",
       "max     22.0  396.90  37.97  "
      ]
     },
     "execution_count": 22,
     "metadata": {},
     "output_type": "execute_result"
    }
   ],
   "source": [
    "#给数据集添加离群点，然后观察L1和L2损失函数的区别\n",
    "state = data.describe()\n",
    "extremes = state.loc[['min','max'],:].drop('medv', axis = 1)\n",
    "extremes"
   ]
  },
  {
   "cell_type": "code",
   "execution_count": 46,
   "metadata": {
    "collapsed": false
   },
   "outputs": [
    {
     "data": {
      "text/plain": [
       "array([[  4.23523643e+00,   4.75320010e+00,   1.75667299e+00,\n",
       "          4.75320010e-02,   4.08100552e-01,   3.80906951e+00,\n",
       "          7.51535730e+00,   1.65230466e+00,   2.09323602e+00,\n",
       "          2.11906769e+02,   1.30468008e+01,   1.91702410e+01,\n",
       "          3.45255972e+00],\n",
       "       [  5.13728215e+01,   5.77347092e+01,   1.62100287e+01,\n",
       "          5.77347092e-01,   6.65590687e-01,   6.57417447e+00,\n",
       "          5.89604026e+01,   7.47862824e+00,   1.42789831e+01,\n",
       "          4.89529876e+02,   1.80270627e+01,   2.29284310e+02,\n",
       "          2.26530586e+01],\n",
       "       [  7.65036010e+00,   8.59171677e+00,   2.80382033e+00,\n",
       "          8.59171677e-02,   4.26755743e-01,   4.00940170e+00,\n",
       "          1.12425570e+01,   2.07442250e+00,   2.97609486e+00,\n",
       "          2.32020596e+02,   1.34076214e+01,   3.43930304e+01,\n",
       "          4.84363816e+00],\n",
       "       [  7.26885304e+01,   8.16930521e+01,   2.27458646e+01,\n",
       "          8.16930521e-01,   7.82028233e-01,   7.82456039e+00,\n",
       "          8.22239536e+01,   1.01133032e+01,   1.97894020e+01,\n",
       "          6.15071593e+02,   2.02791469e+01,   3.24298306e+02,\n",
       "          3.13355621e+01],\n",
       "       [  8.69958049e+01,   9.77740837e+01,   2.71327700e+01,\n",
       "          9.77740837e-01,   8.60182047e-01,   8.66382943e+00,\n",
       "          9.78386353e+01,   1.18817182e+01,   2.34880393e+01,\n",
       "          6.99336199e+02,   2.17907639e+01,   3.88072461e+02,\n",
       "          3.71633279e+01]])"
      ]
     },
     "execution_count": 46,
     "metadata": {},
     "output_type": "execute_result"
    }
   ],
   "source": [
    "# 随机生成5个样本，取值范围在对应特征的[min,max]\n",
    "np.random.seed(12334)\n",
    "rands = np.random.rand(5,1)\n",
    "\n",
    "# 以特征的最小值/最大值组成的行作为numpy数组\n",
    "min_array = np.array(extremes.loc[['min'],:])\n",
    "max_array = np.array(extremes.loc[['max'],:])\n",
    "\n",
    "#找到min,max的差距\n",
    "range = max_array - min_array\n",
    "rands.shape\n",
    "#生成5个随机样本\n",
    "outlier_x = (rands * range)+min_array\n",
    "outlier_x"
   ]
  },
  {
   "cell_type": "code",
   "execution_count": 47,
   "metadata": {
    "collapsed": true
   },
   "outputs": [],
   "source": [
    "#同时为medv，即目标变量创建hard coded outlies\n",
    "medv_outliers = np.array([0,0, 600, 700, 800])"
   ]
  },
  {
   "cell_type": "code",
   "execution_count": 48,
   "metadata": {
    "collapsed": false
   },
   "outputs": [
    {
     "data": {
      "text/plain": [
       "<matplotlib.text.Text at 0x1f836cc0>"
      ]
     },
     "execution_count": 48,
     "metadata": {},
     "output_type": "execute_result"
    },
    {
     "data": {
      "image/png": "[encoded data removed]",
      "text/plain": [
       "<matplotlib.figure.Figure at 0x1f574390>"
      ]
     },
     "metadata": {},
     "output_type": "display_data"
    }
   ],
   "source": [
    "#由于特征'chas','rad','tax'是Integer，所以改变Outliers_x中它们的类型\n",
    "outlier_x[:, [3, 8, 9]] = np.int64(np.round(outlier_x[:,[3,8,9]]))\n",
    "\n",
    "#连接数据\n",
    "train_x = np.append(train_x, outlier_x, axis=0)\n",
    "train_y = np.append(train_y, medv_outliers, axis =0)\n",
    "\n",
    "#绘制train_y中的medv直方图\n",
    "fig = plt.figure(figsize=(13,7))\n",
    "plt.hist(train_y, bins=50,range=(-10, 800))\n",
    "fig.suptitle('medv count', fontsize=20)\n",
    "plt.xlabel('medv', fontsize=16)\n",
    "plt.ylabel('count', fontsize=16)"
   ]
  },
  {
   "cell_type": "code",
   "execution_count": 49,
   "metadata": {
    "collapsed": false
   },
   "outputs": [
    {
     "name": "stdout",
     "output_type": "stream",
     "text": [
      "RMSE:  6.1748387834\n"
     ]
    }
   ],
   "source": [
    "# 在数据集包含离群点时，对比L1 Loss 和 L2 loss\n",
    "# GradientBoostingRegressor with L1 loss function\n",
    "np.random.seed(1234)\n",
    "model = GradientBoostingRegressor(loss='lad')\n",
    "fit = model.fit(train_x, train_y)\n",
    "p1 = fit.predict(test_x)\n",
    "\n",
    "# RMSE\n",
    "print 'RMSE: ', rmse(p1, test_y)"
   ]
  },
  {
   "cell_type": "code",
   "execution_count": 50,
   "metadata": {
    "collapsed": false
   },
   "outputs": [
    {
     "name": "stdout",
     "output_type": "stream",
     "text": [
      "RMSE:  3.80164529558\n"
     ]
    }
   ],
   "source": [
    "# GradientBoostingRegressor with L2 loss function\n",
    "model = GradientBoostingRegressor(loss='ls')\n",
    "fit = model.fit(train_x, train_y)\n",
    "p2 = fit.predict(test_x)\n",
    "\n",
    "# RMSE\n",
    "print 'RMSE: ', rmse(p2, test_y)"
   ]
  }
 ],
 "metadata": {
  "kernelspec": {
   "display_name": "Python 2",
   "language": "python",
   "name": "python2"
  },
  "language_info": {
   "codemirror_mode": {
    "name": "ipython",
    "version": 2
   },
   "file_extension": ".py",
   "mimetype": "text/x-python",
   "name": "python",
   "nbconvert_exporter": "python",
   "pygments_lexer": "ipython2",
   "version": "2.7.10"
  }
 },
 "nbformat": 4,
 "nbformat_minor": 1
}
